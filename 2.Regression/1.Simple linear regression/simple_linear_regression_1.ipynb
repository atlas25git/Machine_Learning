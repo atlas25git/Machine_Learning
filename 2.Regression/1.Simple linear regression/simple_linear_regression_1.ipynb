{
  "nbformat": 4,
  "nbformat_minor": 0,
  "metadata": {
    "colab": {
      "name": "simple_linear_regression_1.ipynb",
      "provenance": [],
      "collapsed_sections": []
    },
    "kernelspec": {
      "name": "python3",
      "display_name": "Python 3"
    }
  },
  "cells": [
    {
      "cell_type": "markdown",
      "metadata": {
        "id": "fIzHX-BZIBgT"
      },
      "source": [
        "Importing Libraries"
      ]
    },
    {
      "cell_type": "code",
      "metadata": {
        "id": "ZryG-CEXIeog"
      },
      "source": [
        "import numpy as np\r\n",
        "import pandas as pd\r\n",
        "import matplotlib.pyplot as plt"
      ],
      "execution_count": 1,
      "outputs": []
    },
    {
      "cell_type": "markdown",
      "metadata": {
        "id": "uoxltsUHImPI"
      },
      "source": [
        "Importing Dataset"
      ]
    },
    {
      "cell_type": "code",
      "metadata": {
        "id": "sNzmdYenIpd4"
      },
      "source": [
        "dataset=pd.read_csv(\"/content/drive/MyDrive/Machine Learning/2.Regression/1.Simple linear regression/Salary_Data.csv\")\r\n",
        "x=dataset.iloc[:,:-1].values\r\n",
        "y=dataset.iloc[:,-1].values"
      ],
      "execution_count": 5,
      "outputs": []
    },
    {
      "cell_type": "code",
      "metadata": {
        "colab": {
          "base_uri": "https://localhost:8080/"
        },
        "id": "swUaTfZVI8rn",
        "outputId": "ba2d6eb6-cb1b-4a58-dc4e-d4b16a6143dd"
      },
      "source": [
        "print(y)"
      ],
      "execution_count": 6,
      "outputs": [
        {
          "output_type": "stream",
          "text": [
            "[ 39343.  46205.  37731.  43525.  39891.  56642.  60150.  54445.  64445.\n",
            "  57189.  63218.  55794.  56957.  57081.  61111.  67938.  66029.  83088.\n",
            "  81363.  93940.  91738.  98273. 101302. 113812. 109431. 105582. 116969.\n",
            " 112635. 122391. 121872.]\n"
          ],
          "name": "stdout"
        }
      ]
    },
    {
      "cell_type": "markdown",
      "metadata": {
        "id": "P069Ln_PJMa3"
      },
      "source": [
        "Splitting the Data"
      ]
    },
    {
      "cell_type": "code",
      "metadata": {
        "id": "blc8Tk3RJOUu"
      },
      "source": [
        "from sklearn.model_selection import train_test_split\r\n",
        "x_train,x_test,y_train,y_test = train_test_split(x,y,test_size=0.3)"
      ],
      "execution_count": 7,
      "outputs": []
    },
    {
      "cell_type": "markdown",
      "metadata": {
        "id": "r57avmwkJfIO"
      },
      "source": [
        "Training the SLR model"
      ]
    },
    {
      "cell_type": "code",
      "metadata": {
        "colab": {
          "base_uri": "https://localhost:8080/"
        },
        "id": "AGs8a1aSJjUO",
        "outputId": "0686817a-ad40-4528-fc88-bedab8ab890d"
      },
      "source": [
        "from sklearn.linear_model import LinearRegression\r\n",
        "regressor = LinearRegression()\r\n",
        "regressor.fit(x_train,y_train)"
      ],
      "execution_count": 8,
      "outputs": [
        {
          "output_type": "execute_result",
          "data": {
            "text/plain": [
              "LinearRegression(copy_X=True, fit_intercept=True, n_jobs=None, normalize=False)"
            ]
          },
          "metadata": {
            "tags": []
          },
          "execution_count": 8
        }
      ]
    },
    {
      "cell_type": "markdown",
      "metadata": {
        "id": "U5bMFBxCJ151"
      },
      "source": [
        "Predicting the Test set Results"
      ]
    },
    {
      "cell_type": "code",
      "metadata": {
        "id": "qNKI53jEJ_3V"
      },
      "source": [
        "y_pred=regressor.predict(x_test)"
      ],
      "execution_count": 9,
      "outputs": []
    },
    {
      "cell_type": "code",
      "metadata": {
        "colab": {
          "base_uri": "https://localhost:8080/"
        },
        "id": "kbZ42T3fKG2F",
        "outputId": "2b809e79-ce1f-4de8-df9d-0b1e6bea9e75"
      },
      "source": [
        "print(y_pred)"
      ],
      "execution_count": 10,
      "outputs": [
        {
          "output_type": "stream",
          "text": [
            "[ 37378.79421512  39313.32349556  55756.82237927  63494.93950102\n",
            " 111858.17151194  74134.85054342  81872.96766517  76069.37982386\n",
            "  64462.20414124]\n"
          ],
          "name": "stdout"
        }
      ]
    },
    {
      "cell_type": "markdown",
      "metadata": {
        "id": "jbJEMH8BKO-E"
      },
      "source": [
        "Visualising"
      ]
    },
    {
      "cell_type": "code",
      "metadata": {
        "colab": {
          "base_uri": "https://localhost:8080/",
          "height": 312
        },
        "id": "eGlw_P_jKQT1",
        "outputId": "cff001e7-90ab-4281-afaa-0890f0c7aeff"
      },
      "source": [
        "#training set\r\n",
        "\r\n",
        "plt.scatter(x_train,y_train,color='red')\r\n",
        "plt.plot(x_train,regressor.predict(x_train),color='blue')\r\n",
        "plt.title('Salary as Experience')\r\n",
        "plt.xlabel('Exp.')\r\n",
        "plt.ylabel('salary')\r\n",
        "plt.show"
      ],
      "execution_count": 11,
      "outputs": [
        {
          "output_type": "execute_result",
          "data": {
            "text/plain": [
              "<function matplotlib.pyplot.show>"
            ]
          },
          "metadata": {
            "tags": []
          },
          "execution_count": 11
        },
        {
          "output_type": "display_data",
          "data": {
            "image/png": "[encoded data removed]",
            "text/plain": [
              "<Figure size 432x288 with 1 Axes>"
            ]
          },
          "metadata": {
            "tags": [],
            "needs_background": "light"
          }
        }
      ]
    },
    {
      "cell_type": "code",
      "metadata": {
        "colab": {
          "base_uri": "https://localhost:8080/",
          "height": 312
        },
        "id": "sEsQU5AHK1XD",
        "outputId": "e3eed44a-d8a0-4dc3-c3a1-855aa0860f32"
      },
      "source": [
        "#test set\r\n",
        "\r\n",
        "plt.scatter(x_test,y_test,color='red')\r\n",
        "plt.plot(x_train,regressor.predict(x_train),color='blue')\r\n",
        "plt.title('Salary as Experience')\r\n",
        "plt.xlabel('Exp.')\r\n",
        "plt.ylabel('salary')\r\n",
        "plt.show"
      ],
      "execution_count": 12,
      "outputs": [
        {
          "output_type": "execute_result",
          "data": {
            "text/plain": [
              "<function matplotlib.pyplot.show>"
            ]
          },
          "metadata": {
            "tags": []
          },
          "execution_count": 12
        },
        {
          "output_type": "display_data",
          "data": {
            "image/png": "[encoded data removed]",
            "text/plain": [
              "<Figure size 432x288 with 1 Axes>"
            ]
          },
          "metadata": {
            "tags": [],
            "needs_background": "light"
          }
        }
      ]
    },
    {
      "cell_type": "markdown",
      "metadata": {
        "id": "2nJcGM9TLvZZ"
      },
      "source": [
        "Evaluation"
      ]
    },
    {
      "cell_type": "code",
      "metadata": {
        "colab": {
          "base_uri": "https://localhost:8080/"
        },
        "id": "GkFTDwyMLxUJ",
        "outputId": "c49db8a3-150e-49f3-c0e2-d9dec0cbb049"
      },
      "source": [
        "from sklearn.metrics import r2_score\r\n",
        "r2_score(y_test,y_pred)\r\n",
        "#print(r2_score)"
      ],
      "execution_count": 14,
      "outputs": [
        {
          "output_type": "execute_result",
          "data": {
            "text/plain": [
              "0.8817220904591664"
            ]
          },
          "metadata": {
            "tags": []
          },
          "execution_count": 14
        }
      ]
    }
  ]
}